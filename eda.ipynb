{
  "cells": [
    {
      "cell_type": "markdown",
      "metadata": {
        "id": "view-in-github",
        "colab_type": "text"
      },
      "source": [
        "<a href=\"https://colab.research.google.com/github/Ax3lrod/diabetes-risk-prediction-eda/blob/main/eda.ipynb\" target=\"_parent\"><img src=\"https://colab.research.google.com/assets/colab-badge.svg\" alt=\"Open In Colab\"/></a>"
      ]
    },
    {
      "cell_type": "markdown",
      "metadata": {
        "id": "vcCOgqzQR0du"
      },
      "source": [
        "<h2>Diabetes Risk Prediction EDA</h3>\n",
        "<h5>Contributors:</h5>\n",
        "<ul>\n",
        "    <li>Fiorenza Adelia Nalle 5027231053</li>\n",
        "    <li>Adlya Isriena Aftarisya 5027231066</li>\n",
        "    <li>Harwinda 5027231079</li>\n",
        "    <li>Aryasatya Alaauddin 5027231082</li>\n",
        "</ul>\n",
        "<h2>The Dataset</h2>\n",
        "<h5>Diabetes adalah penyakit kronis yang mempengaruhi jutaan orang di seluruh dunia, dan deteksi dini sangat penting untuk pengelolaan yang efektif. Dataset ini dirancang untuk membantu memprediksi risiko diabetes berdasarkan berbagai gejala medis dan kondisi kesehatan. Dataset ini berisi 520 observasi dan 17 atribut, termasuk faktor seperti usia, jenis kelamin, serta gejala seperti poliuria (sering buang air kecil), polidipsia (sering merasa haus), penurunan berat badan secara tiba-tiba, dan obesitas. Variabel target (class) menunjukkan apakah seseorang menderita diabetes (Positive) atau tidak (Negative).</h5>\n",
        "<h2>Explanatory Data Analysis</h2>"
      ]
    },
    {
      "cell_type": "code",
      "execution_count": null,
      "metadata": {
        "id": "2XMiamMbR0dw"
      },
      "outputs": [],
      "source": [
        "# import requirements library\n",
        "import pandas as pd\n",
        "import numpy as np\n",
        "import seaborn as sns\n",
        "import matplotlib.pyplot as plt"
      ]
    },
    {
      "cell_type": "code",
      "execution_count": null,
      "metadata": {
        "id": "KyyqVlVoR0dx",
        "outputId": "49a984e5-ff34-4a1f-b4a9-f5588ce03c26"
      },
      "outputs": [
        {
          "data": {
            "text/html": [
              "<div>\n",
              "<style scoped>\n",
              "    .dataframe tbody tr th:only-of-type {\n",
              "        vertical-align: middle;\n",
              "    }\n",
              "\n",
              "    .dataframe tbody tr th {\n",
              "        vertical-align: top;\n",
              "    }\n",
              "\n",
              "    .dataframe thead th {\n",
              "        text-align: right;\n",
              "    }\n",
              "</style>\n",
              "<table border=\"1\" class=\"dataframe\">\n",
              "  <thead>\n",
              "    <tr style=\"text-align: right;\">\n",
              "      <th></th>\n",
              "      <th>Age</th>\n",
              "      <th>Gender</th>\n",
              "      <th>Polyuria</th>\n",
              "      <th>Polydipsia</th>\n",
              "      <th>sudden weight loss</th>\n",
              "      <th>weakness</th>\n",
              "      <th>Polyphagia</th>\n",
              "      <th>Genital thrush</th>\n",
              "      <th>visual blurring</th>\n",
              "      <th>Itching</th>\n",
              "      <th>Irritability</th>\n",
              "      <th>delayed healing</th>\n",
              "      <th>partial paresis</th>\n",
              "      <th>muscle stiffness</th>\n",
              "      <th>Alopecia</th>\n",
              "      <th>Obesity</th>\n",
              "      <th>class</th>\n",
              "    </tr>\n",
              "  </thead>\n",
              "  <tbody>\n",
              "    <tr>\n",
              "      <th>0</th>\n",
              "      <td>40</td>\n",
              "      <td>male</td>\n",
              "      <td>no</td>\n",
              "      <td>yes</td>\n",
              "      <td>no</td>\n",
              "      <td>yes</td>\n",
              "      <td>no</td>\n",
              "      <td>no</td>\n",
              "      <td>no</td>\n",
              "      <td>yes</td>\n",
              "      <td>no</td>\n",
              "      <td>yes</td>\n",
              "      <td>no</td>\n",
              "      <td>yes</td>\n",
              "      <td>yes</td>\n",
              "      <td>yes</td>\n",
              "      <td>positive</td>\n",
              "    </tr>\n",
              "    <tr>\n",
              "      <th>1</th>\n",
              "      <td>58</td>\n",
              "      <td>male</td>\n",
              "      <td>no</td>\n",
              "      <td>no</td>\n",
              "      <td>no</td>\n",
              "      <td>yes</td>\n",
              "      <td>no</td>\n",
              "      <td>no</td>\n",
              "      <td>yes</td>\n",
              "      <td>no</td>\n",
              "      <td>no</td>\n",
              "      <td>no</td>\n",
              "      <td>yes</td>\n",
              "      <td>no</td>\n",
              "      <td>yes</td>\n",
              "      <td>no</td>\n",
              "      <td>positive</td>\n",
              "    </tr>\n",
              "    <tr>\n",
              "      <th>2</th>\n",
              "      <td>41</td>\n",
              "      <td>male</td>\n",
              "      <td>yes</td>\n",
              "      <td>no</td>\n",
              "      <td>no</td>\n",
              "      <td>yes</td>\n",
              "      <td>yes</td>\n",
              "      <td>no</td>\n",
              "      <td>no</td>\n",
              "      <td>yes</td>\n",
              "      <td>no</td>\n",
              "      <td>yes</td>\n",
              "      <td>no</td>\n",
              "      <td>yes</td>\n",
              "      <td>yes</td>\n",
              "      <td>no</td>\n",
              "      <td>positive</td>\n",
              "    </tr>\n",
              "    <tr>\n",
              "      <th>3</th>\n",
              "      <td>45</td>\n",
              "      <td>male</td>\n",
              "      <td>no</td>\n",
              "      <td>no</td>\n",
              "      <td>yes</td>\n",
              "      <td>yes</td>\n",
              "      <td>yes</td>\n",
              "      <td>yes</td>\n",
              "      <td>no</td>\n",
              "      <td>yes</td>\n",
              "      <td>no</td>\n",
              "      <td>yes</td>\n",
              "      <td>no</td>\n",
              "      <td>no</td>\n",
              "      <td>no</td>\n",
              "      <td>no</td>\n",
              "      <td>positive</td>\n",
              "    </tr>\n",
              "    <tr>\n",
              "      <th>4</th>\n",
              "      <td>60</td>\n",
              "      <td>male</td>\n",
              "      <td>yes</td>\n",
              "      <td>yes</td>\n",
              "      <td>yes</td>\n",
              "      <td>yes</td>\n",
              "      <td>yes</td>\n",
              "      <td>no</td>\n",
              "      <td>yes</td>\n",
              "      <td>yes</td>\n",
              "      <td>yes</td>\n",
              "      <td>yes</td>\n",
              "      <td>yes</td>\n",
              "      <td>yes</td>\n",
              "      <td>yes</td>\n",
              "      <td>yes</td>\n",
              "      <td>positive</td>\n",
              "    </tr>\n",
              "  </tbody>\n",
              "</table>\n",
              "</div>"
            ],
            "text/plain": [
              "   Age Gender Polyuria Polydipsia sudden weight loss weakness Polyphagia  \\\n",
              "0   40   male       no        yes                 no      yes         no   \n",
              "1   58   male       no         no                 no      yes         no   \n",
              "2   41   male      yes         no                 no      yes        yes   \n",
              "3   45   male       no         no                yes      yes        yes   \n",
              "4   60   male      yes        yes                yes      yes        yes   \n",
              "\n",
              "  Genital thrush visual blurring Itching Irritability delayed healing  \\\n",
              "0             no              no     yes           no             yes   \n",
              "1             no             yes      no           no              no   \n",
              "2             no              no     yes           no             yes   \n",
              "3            yes              no     yes           no             yes   \n",
              "4             no             yes     yes          yes             yes   \n",
              "\n",
              "  partial paresis muscle stiffness Alopecia Obesity     class  \n",
              "0              no              yes      yes     yes  positive  \n",
              "1             yes               no      yes      no  positive  \n",
              "2              no              yes      yes      no  positive  \n",
              "3              no               no       no      no  positive  \n",
              "4             yes              yes      yes     yes  positive  "
            ]
          },
          "execution_count": 39,
          "metadata": {},
          "output_type": "execute_result"
        }
      ],
      "source": [
        "# Membaca dataset\n",
        "data = pd.read_csv('C:/Users/Aryasatya Alaauddin/AI/diabetes_risk_eda/dataset/diabetes_risk_prediction_dataset.csv')\n",
        "\n",
        "# Membersihkan data dari spasi dan mengubah menjadi huruf kecil\n",
        "data = data.apply(lambda x: x.astype(str).str.strip().str.lower() if x.dtype == \"object\" else x)\n",
        "\n",
        "# Merubah Gender dan class menjadi tipe data kategori\n",
        "data['Gender'] = data['Gender'].astype('category')\n",
        "data['class'] = data['class'].astype('category')\n",
        "\n",
        "# Menampilkan 5 data teratas\n",
        "data.head()"
      ]
    },
    {
      "cell_type": "code",
      "source": [],
      "metadata": {
        "id": "WjzzPO49UKMk"
      },
      "execution_count": null,
      "outputs": []
    },
    {
      "cell_type": "code",
      "execution_count": null,
      "metadata": {
        "id": "Poga4jOHR0dy",
        "outputId": "60a4e0c9-a40b-4765-ad77-44afd5bc0c20"
      },
      "outputs": [
        {
          "data": {
            "text/plain": [
              "(520, 17)"
            ]
          },
          "execution_count": 40,
          "metadata": {},
          "output_type": "execute_result"
        }
      ],
      "source": [
        "# Mendapatkan bentuk dari data\n",
        "data.shape"
      ]
    },
    {
      "cell_type": "code",
      "execution_count": null,
      "metadata": {
        "id": "3JXpG5xqR0dy",
        "outputId": "b487e1cc-1815-42d2-d76e-32a027a8453c"
      },
      "outputs": [
        {
          "name": "stdout",
          "output_type": "stream",
          "text": [
            "<class 'pandas.core.frame.DataFrame'>\n",
            "RangeIndex: 520 entries, 0 to 519\n",
            "Data columns (total 17 columns):\n",
            " #   Column              Non-Null Count  Dtype   \n",
            "---  ------              --------------  -----   \n",
            " 0   Age                 520 non-null    int64   \n",
            " 1   Gender              520 non-null    category\n",
            " 2   Polyuria            520 non-null    object  \n",
            " 3   Polydipsia          520 non-null    object  \n",
            " 4   sudden weight loss  520 non-null    object  \n",
            " 5   weakness            520 non-null    object  \n",
            " 6   Polyphagia          520 non-null    object  \n",
            " 7   Genital thrush      520 non-null    object  \n",
            " 8   visual blurring     520 non-null    object  \n",
            " 9   Itching             520 non-null    object  \n",
            " 10  Irritability        520 non-null    object  \n",
            " 11  delayed healing     520 non-null    object  \n",
            " 12  partial paresis     520 non-null    object  \n",
            " 13  muscle stiffness    520 non-null    object  \n",
            " 14  Alopecia            520 non-null    object  \n",
            " 15  Obesity             520 non-null    object  \n",
            " 16  class               520 non-null    category\n",
            "dtypes: category(2), int64(1), object(14)\n",
            "memory usage: 62.3+ KB\n"
          ]
        }
      ],
      "source": [
        "# Mendapatkan informasi dari data\n",
        "data.info()"
      ]
    },
    {
      "cell_type": "code",
      "execution_count": null,
      "metadata": {
        "id": "OZl8n4OGR0dy",
        "outputId": "09c562b5-b7fc-43c7-cef9-9c0ef1d2ee17"
      },
      "outputs": [
        {
          "data": {
            "text/html": [
              "<div>\n",
              "<style scoped>\n",
              "    .dataframe tbody tr th:only-of-type {\n",
              "        vertical-align: middle;\n",
              "    }\n",
              "\n",
              "    .dataframe tbody tr th {\n",
              "        vertical-align: top;\n",
              "    }\n",
              "\n",
              "    .dataframe thead th {\n",
              "        text-align: right;\n",
              "    }\n",
              "</style>\n",
              "<table border=\"1\" class=\"dataframe\">\n",
              "  <thead>\n",
              "    <tr style=\"text-align: right;\">\n",
              "      <th></th>\n",
              "      <th>count</th>\n",
              "      <th>mean</th>\n",
              "      <th>std</th>\n",
              "      <th>min</th>\n",
              "      <th>25%</th>\n",
              "      <th>50%</th>\n",
              "      <th>75%</th>\n",
              "      <th>max</th>\n",
              "    </tr>\n",
              "  </thead>\n",
              "  <tbody>\n",
              "    <tr>\n",
              "      <th>Age</th>\n",
              "      <td>520.0</td>\n",
              "      <td>48.028846</td>\n",
              "      <td>12.151466</td>\n",
              "      <td>16.0</td>\n",
              "      <td>39.0</td>\n",
              "      <td>47.5</td>\n",
              "      <td>57.0</td>\n",
              "      <td>90.0</td>\n",
              "    </tr>\n",
              "  </tbody>\n",
              "</table>\n",
              "</div>"
            ],
            "text/plain": [
              "     count       mean        std   min   25%   50%   75%   max\n",
              "Age  520.0  48.028846  12.151466  16.0  39.0  47.5  57.0  90.0"
            ]
          },
          "execution_count": 42,
          "metadata": {},
          "output_type": "execute_result"
        }
      ],
      "source": [
        "# Mendapatkan statistik deskriptif dari data\n",
        "data.describe().T"
      ]
    },
    {
      "cell_type": "code",
      "execution_count": null,
      "metadata": {
        "id": "flMniqNyR0dz",
        "outputId": "9aa14ca8-d3ec-47fe-fc79-1cbcce6eaab1"
      },
      "outputs": [
        {
          "data": {
            "text/html": [
              "<div>\n",
              "<style scoped>\n",
              "    .dataframe tbody tr th:only-of-type {\n",
              "        vertical-align: middle;\n",
              "    }\n",
              "\n",
              "    .dataframe tbody tr th {\n",
              "        vertical-align: top;\n",
              "    }\n",
              "\n",
              "    .dataframe thead th {\n",
              "        text-align: right;\n",
              "    }\n",
              "</style>\n",
              "<table border=\"1\" class=\"dataframe\">\n",
              "  <thead>\n",
              "    <tr style=\"text-align: right;\">\n",
              "      <th></th>\n",
              "      <th>count</th>\n",
              "      <th>unique</th>\n",
              "      <th>top</th>\n",
              "      <th>freq</th>\n",
              "    </tr>\n",
              "  </thead>\n",
              "  <tbody>\n",
              "    <tr>\n",
              "      <th>Gender</th>\n",
              "      <td>520</td>\n",
              "      <td>2</td>\n",
              "      <td>male</td>\n",
              "      <td>328</td>\n",
              "    </tr>\n",
              "    <tr>\n",
              "      <th>Polyuria</th>\n",
              "      <td>520</td>\n",
              "      <td>2</td>\n",
              "      <td>no</td>\n",
              "      <td>262</td>\n",
              "    </tr>\n",
              "    <tr>\n",
              "      <th>Polydipsia</th>\n",
              "      <td>520</td>\n",
              "      <td>2</td>\n",
              "      <td>no</td>\n",
              "      <td>287</td>\n",
              "    </tr>\n",
              "    <tr>\n",
              "      <th>sudden weight loss</th>\n",
              "      <td>520</td>\n",
              "      <td>2</td>\n",
              "      <td>no</td>\n",
              "      <td>303</td>\n",
              "    </tr>\n",
              "    <tr>\n",
              "      <th>weakness</th>\n",
              "      <td>520</td>\n",
              "      <td>2</td>\n",
              "      <td>yes</td>\n",
              "      <td>305</td>\n",
              "    </tr>\n",
              "    <tr>\n",
              "      <th>Polyphagia</th>\n",
              "      <td>520</td>\n",
              "      <td>2</td>\n",
              "      <td>no</td>\n",
              "      <td>283</td>\n",
              "    </tr>\n",
              "    <tr>\n",
              "      <th>Genital thrush</th>\n",
              "      <td>520</td>\n",
              "      <td>2</td>\n",
              "      <td>no</td>\n",
              "      <td>404</td>\n",
              "    </tr>\n",
              "    <tr>\n",
              "      <th>visual blurring</th>\n",
              "      <td>520</td>\n",
              "      <td>2</td>\n",
              "      <td>no</td>\n",
              "      <td>287</td>\n",
              "    </tr>\n",
              "    <tr>\n",
              "      <th>Itching</th>\n",
              "      <td>520</td>\n",
              "      <td>2</td>\n",
              "      <td>no</td>\n",
              "      <td>267</td>\n",
              "    </tr>\n",
              "    <tr>\n",
              "      <th>Irritability</th>\n",
              "      <td>520</td>\n",
              "      <td>2</td>\n",
              "      <td>no</td>\n",
              "      <td>394</td>\n",
              "    </tr>\n",
              "    <tr>\n",
              "      <th>delayed healing</th>\n",
              "      <td>520</td>\n",
              "      <td>2</td>\n",
              "      <td>no</td>\n",
              "      <td>281</td>\n",
              "    </tr>\n",
              "    <tr>\n",
              "      <th>partial paresis</th>\n",
              "      <td>520</td>\n",
              "      <td>2</td>\n",
              "      <td>no</td>\n",
              "      <td>296</td>\n",
              "    </tr>\n",
              "    <tr>\n",
              "      <th>muscle stiffness</th>\n",
              "      <td>520</td>\n",
              "      <td>2</td>\n",
              "      <td>no</td>\n",
              "      <td>325</td>\n",
              "    </tr>\n",
              "    <tr>\n",
              "      <th>Alopecia</th>\n",
              "      <td>520</td>\n",
              "      <td>2</td>\n",
              "      <td>no</td>\n",
              "      <td>341</td>\n",
              "    </tr>\n",
              "    <tr>\n",
              "      <th>Obesity</th>\n",
              "      <td>520</td>\n",
              "      <td>2</td>\n",
              "      <td>no</td>\n",
              "      <td>432</td>\n",
              "    </tr>\n",
              "    <tr>\n",
              "      <th>class</th>\n",
              "      <td>520</td>\n",
              "      <td>2</td>\n",
              "      <td>positive</td>\n",
              "      <td>320</td>\n",
              "    </tr>\n",
              "  </tbody>\n",
              "</table>\n",
              "</div>"
            ],
            "text/plain": [
              "                   count unique       top freq\n",
              "Gender               520      2      male  328\n",
              "Polyuria             520      2        no  262\n",
              "Polydipsia           520      2        no  287\n",
              "sudden weight loss   520      2        no  303\n",
              "weakness             520      2       yes  305\n",
              "Polyphagia           520      2        no  283\n",
              "Genital thrush       520      2        no  404\n",
              "visual blurring      520      2        no  287\n",
              "Itching              520      2        no  267\n",
              "Irritability         520      2        no  394\n",
              "delayed healing      520      2        no  281\n",
              "partial paresis      520      2        no  296\n",
              "muscle stiffness     520      2        no  325\n",
              "Alopecia             520      2        no  341\n",
              "Obesity              520      2        no  432\n",
              "class                520      2  positive  320"
            ]
          },
          "execution_count": 43,
          "metadata": {},
          "output_type": "execute_result"
        }
      ],
      "source": [
        "categorical_data = data.select_dtypes(include=['object', 'category'])\n",
        "categorical_data.describe().T"
      ]
    },
    {
      "cell_type": "code",
      "execution_count": null,
      "metadata": {
        "id": "HjsLROeZR0dz",
        "outputId": "c6fa99a5-be72-4f19-cb91-80adb5d08177"
      },
      "outputs": [
        {
          "data": {
            "text/plain": [
              "Age                   0\n",
              "Gender                0\n",
              "Polyuria              0\n",
              "Polydipsia            0\n",
              "sudden weight loss    0\n",
              "weakness              0\n",
              "Polyphagia            0\n",
              "Genital thrush        0\n",
              "visual blurring       0\n",
              "Itching               0\n",
              "Irritability          0\n",
              "delayed healing       0\n",
              "partial paresis       0\n",
              "muscle stiffness      0\n",
              "Alopecia              0\n",
              "Obesity               0\n",
              "class                 0\n",
              "dtype: int64"
            ]
          },
          "execution_count": 44,
          "metadata": {},
          "output_type": "execute_result"
        }
      ],
      "source": [
        "# Memeriiksa missing value\n",
        "data.isnull().sum()"
      ]
    },
    {
      "cell_type": "code",
      "execution_count": null,
      "metadata": {
        "id": "8hwk_PlCR0dz",
        "outputId": "b53d4d31-778f-4552-9892-336fb53a0208"
      },
      "outputs": [
        {
          "data": {
            "text/plain": [
              "np.int64(269)"
            ]
          },
          "execution_count": 45,
          "metadata": {},
          "output_type": "execute_result"
        }
      ],
      "source": [
        "# Memeriksa duplikasi data\n",
        "data.duplicated().sum()"
      ]
    },
    {
      "cell_type": "code",
      "execution_count": null,
      "metadata": {
        "id": "0q-Wr8AyR0d0",
        "outputId": "c119e683-5936-4ce2-d90a-86f192b4de97"
      },
      "outputs": [
        {
          "data": {
            "text/plain": [
              "np.int64(0)"
            ]
          },
          "execution_count": 46,
          "metadata": {},
          "output_type": "execute_result"
        }
      ],
      "source": [
        "# Menghapus data yang duplikat\n",
        "data = data.drop_duplicates()\n",
        "\n",
        "# Memeriksa kembali duplikasi data\n",
        "data.duplicated().sum()"
      ]
    },
    {
      "cell_type": "code",
      "execution_count": null,
      "metadata": {
        "id": "Y_FpGZhnR0d0",
        "outputId": "1cd269ea-ba63-483b-8353-6d9567fde6de"
      },
      "outputs": [
        {
          "data": {
            "text/plain": [
              "class\n",
              "positive    173\n",
              "negative     78\n",
              "Name: count, dtype: int64"
            ]
          },
          "execution_count": 47,
          "metadata": {},
          "output_type": "execute_result"
        }
      ],
      "source": [
        "# Memeriksa balance data\n",
        "data.value_counts(\"class\")"
      ]
    },
    {
      "cell_type": "code",
      "execution_count": null,
      "metadata": {
        "id": "WGZC54xCR0d0",
        "outputId": "800ba116-908b-45e5-fac7-33ccfe76ee4d"
      },
      "outputs": [
        {
          "data": {
            "text/plain": [
              "Gender\n",
              "male      160\n",
              "female     91\n",
              "Name: count, dtype: int64"
            ]
          },
          "execution_count": 48,
          "metadata": {},
          "output_type": "execute_result"
        }
      ],
      "source": [
        "data.value_counts(\"Gender\")"
      ]
    },
    {
      "cell_type": "code",
      "execution_count": null,
      "metadata": {
        "id": "3dYoiL1aR0d0",
        "outputId": "0668ffc2-fa64-49f7-bf45-d6be85c3ebcd"
      },
      "outputs": [
        {
          "data": {
            "text/html": [
              "<div>\n",
              "<style scoped>\n",
              "    .dataframe tbody tr th:only-of-type {\n",
              "        vertical-align: middle;\n",
              "    }\n",
              "\n",
              "    .dataframe tbody tr th {\n",
              "        vertical-align: top;\n",
              "    }\n",
              "\n",
              "    .dataframe thead th {\n",
              "        text-align: right;\n",
              "    }\n",
              "</style>\n",
              "<table border=\"1\" class=\"dataframe\">\n",
              "  <thead>\n",
              "    <tr style=\"text-align: right;\">\n",
              "      <th></th>\n",
              "      <th>Age</th>\n",
              "      <th>Gender</th>\n",
              "      <th>Polyuria</th>\n",
              "      <th>Polydipsia</th>\n",
              "      <th>sudden weight loss</th>\n",
              "      <th>weakness</th>\n",
              "      <th>Polyphagia</th>\n",
              "      <th>Genital thrush</th>\n",
              "      <th>visual blurring</th>\n",
              "      <th>Itching</th>\n",
              "      <th>Irritability</th>\n",
              "      <th>delayed healing</th>\n",
              "      <th>partial paresis</th>\n",
              "      <th>muscle stiffness</th>\n",
              "      <th>Alopecia</th>\n",
              "      <th>Obesity</th>\n",
              "      <th>class</th>\n",
              "    </tr>\n",
              "  </thead>\n",
              "  <tbody>\n",
              "    <tr>\n",
              "      <th>0</th>\n",
              "      <td>40</td>\n",
              "      <td>True</td>\n",
              "      <td>False</td>\n",
              "      <td>True</td>\n",
              "      <td>False</td>\n",
              "      <td>True</td>\n",
              "      <td>False</td>\n",
              "      <td>False</td>\n",
              "      <td>False</td>\n",
              "      <td>True</td>\n",
              "      <td>False</td>\n",
              "      <td>True</td>\n",
              "      <td>False</td>\n",
              "      <td>True</td>\n",
              "      <td>True</td>\n",
              "      <td>True</td>\n",
              "      <td>True</td>\n",
              "    </tr>\n",
              "    <tr>\n",
              "      <th>1</th>\n",
              "      <td>58</td>\n",
              "      <td>True</td>\n",
              "      <td>False</td>\n",
              "      <td>False</td>\n",
              "      <td>False</td>\n",
              "      <td>True</td>\n",
              "      <td>False</td>\n",
              "      <td>False</td>\n",
              "      <td>True</td>\n",
              "      <td>False</td>\n",
              "      <td>False</td>\n",
              "      <td>False</td>\n",
              "      <td>True</td>\n",
              "      <td>False</td>\n",
              "      <td>True</td>\n",
              "      <td>False</td>\n",
              "      <td>True</td>\n",
              "    </tr>\n",
              "    <tr>\n",
              "      <th>2</th>\n",
              "      <td>41</td>\n",
              "      <td>True</td>\n",
              "      <td>True</td>\n",
              "      <td>False</td>\n",
              "      <td>False</td>\n",
              "      <td>True</td>\n",
              "      <td>True</td>\n",
              "      <td>False</td>\n",
              "      <td>False</td>\n",
              "      <td>True</td>\n",
              "      <td>False</td>\n",
              "      <td>True</td>\n",
              "      <td>False</td>\n",
              "      <td>True</td>\n",
              "      <td>True</td>\n",
              "      <td>False</td>\n",
              "      <td>True</td>\n",
              "    </tr>\n",
              "    <tr>\n",
              "      <th>3</th>\n",
              "      <td>45</td>\n",
              "      <td>True</td>\n",
              "      <td>False</td>\n",
              "      <td>False</td>\n",
              "      <td>True</td>\n",
              "      <td>True</td>\n",
              "      <td>True</td>\n",
              "      <td>True</td>\n",
              "      <td>False</td>\n",
              "      <td>True</td>\n",
              "      <td>False</td>\n",
              "      <td>True</td>\n",
              "      <td>False</td>\n",
              "      <td>False</td>\n",
              "      <td>False</td>\n",
              "      <td>False</td>\n",
              "      <td>True</td>\n",
              "    </tr>\n",
              "    <tr>\n",
              "      <th>4</th>\n",
              "      <td>60</td>\n",
              "      <td>True</td>\n",
              "      <td>True</td>\n",
              "      <td>True</td>\n",
              "      <td>True</td>\n",
              "      <td>True</td>\n",
              "      <td>True</td>\n",
              "      <td>False</td>\n",
              "      <td>True</td>\n",
              "      <td>True</td>\n",
              "      <td>True</td>\n",
              "      <td>True</td>\n",
              "      <td>True</td>\n",
              "      <td>True</td>\n",
              "      <td>True</td>\n",
              "      <td>True</td>\n",
              "      <td>True</td>\n",
              "    </tr>\n",
              "  </tbody>\n",
              "</table>\n",
              "</div>"
            ],
            "text/plain": [
              "   Age Gender  Polyuria  Polydipsia  sudden weight loss  weakness  Polyphagia  \\\n",
              "0   40   True     False        True               False      True       False   \n",
              "1   58   True     False       False               False      True       False   \n",
              "2   41   True      True       False               False      True        True   \n",
              "3   45   True     False       False                True      True        True   \n",
              "4   60   True      True        True                True      True        True   \n",
              "\n",
              "   Genital thrush  visual blurring  Itching  Irritability  delayed healing  \\\n",
              "0           False            False     True         False             True   \n",
              "1           False             True    False         False            False   \n",
              "2           False            False     True         False             True   \n",
              "3            True            False     True         False             True   \n",
              "4           False             True     True          True             True   \n",
              "\n",
              "   partial paresis  muscle stiffness  Alopecia  Obesity class  \n",
              "0            False              True      True     True  True  \n",
              "1             True             False      True    False  True  \n",
              "2            False              True      True    False  True  \n",
              "3            False             False     False    False  True  \n",
              "4             True              True      True     True  True  "
            ]
          },
          "execution_count": 49,
          "metadata": {},
          "output_type": "execute_result"
        }
      ],
      "source": [
        "# Ubah kategori Gender\n",
        "data['Gender'] = data['Gender'].cat.rename_categories({\"male\": True, \"female\": False})\n",
        "\n",
        "# Ubah kategori class\n",
        "data['class'] = data['class'].cat.rename_categories({\"positive\": True, \"negative\": False})\n",
        "\n",
        "# Ubah 'yes'/'no' menjadi True/False untuk semua kolom yang mengandung string\n",
        "yes_no_cols = ['Polyuria', 'Polydipsia', 'sudden weight loss', 'weakness', 'Polyphagia',\n",
        "               'Genital thrush', 'visual blurring', 'Itching', 'Irritability', 'delayed healing',\n",
        "               'partial paresis', 'muscle stiffness', 'Alopecia', 'Obesity']\n",
        "\n",
        "data[yes_no_cols] = data[yes_no_cols].apply(lambda x: x.map({'yes': True, 'no': False}))\n",
        "\n",
        "# Cek hasil perubahan\n",
        "data.head()"
      ]
    },
    {
      "cell_type": "code",
      "source": [
        "# Visualize distribution of Age using displot\n",
        "plt.figure(figsize=(8, 6))\n",
        "sns.displot(data['Age'], kde=True)\n",
        "plt.title('Distribution of Age')\n",
        "plt.show()\n",
        "\n",
        "# Visualize distribution of binary features using displot\n",
        "binary_cols = ['Polyuria', 'Polydipsia', 'sudden weight loss', 'weakness',\n",
        "               'Polyphagia', 'Genital thrush', 'visual blurring', 'Itching',\n",
        "               'Irritability', 'delayed healing', 'partial paresis',\n",
        "               'muscle stiffness', 'Alopecia', 'Obesity', 'Gender']\n",
        "\n",
        "for col in binary_cols:\n",
        "    plt.figure()\n",
        "    sns.displot(data[col], kde=False, discrete=True)\n",
        "    plt.title(f'Distribution of {col}')\n",
        "    plt.show()"
      ],
      "metadata": {
        "id": "1CVKwVrpUNLN"
      },
      "execution_count": null,
      "outputs": []
    },
    {
      "cell_type": "code",
      "source": [
        "# Convert boolean and categorical columns to integers for correlation\n",
        "data_corr = data.copy()\n",
        "for col in data_corr.columns:\n",
        "    if data_corr[col].dtype == 'bool' or data_corr[col].dtype.name == 'category':\n",
        "        data_corr[col] = data_corr[col].astype(int)\n",
        "\n",
        "# Calculate correlation matrix\n",
        "corr_matrix = data_corr.corr()\n",
        "\n",
        "# Visualize correlation matrix using heatmap\n",
        "plt.figure(figsize=(16, 10))\n",
        "sns.heatmap(corr_matrix, annot=True, fmt=\".2f\", cmap='coolwarm', center=0)\n",
        "plt.title('Feature Correlation Matrix')\n",
        "plt.tight_layout()\n",
        "plt.show()\n",
        "\n",
        "# Show correlation with target variable (class)\n",
        "corr_with_class = corr_matrix['class'].sort_values(ascending=False)\n",
        "plt.figure(figsize=(10, 6))\n",
        "sns.barplot(x=corr_with_class.index, y=corr_with_class.values)\n",
        "plt.xticks(rotation=90)\n",
        "plt.title('Correlation with Diabetes Diagnosis')\n",
        "plt.ylabel('Correlation Coefficient')\n",
        "plt.show()"
      ],
      "metadata": {
        "id": "tIcz5NH8UQ6S"
      },
      "execution_count": null,
      "outputs": []
    }
  ],
  "metadata": {
    "kernelspec": {
      "display_name": "Python 3",
      "language": "python",
      "name": "python3"
    },
    "language_info": {
      "codemirror_mode": {
        "name": "ipython",
        "version": 3
      },
      "file_extension": ".py",
      "mimetype": "text/x-python",
      "name": "python",
      "nbconvert_exporter": "python",
      "pygments_lexer": "ipython3",
      "version": "3.13.1"
    },
    "colab": {
      "provenance": [],
      "include_colab_link": true
    }
  },
  "nbformat": 4,
  "nbformat_minor": 0
}